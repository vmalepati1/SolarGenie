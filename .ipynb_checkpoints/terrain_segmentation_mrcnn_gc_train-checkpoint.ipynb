{
 "cells": [
  {
   "cell_type": "code",
   "execution_count": null,
   "metadata": {},
   "outputs": [],
   "source": [
    "import mrcnn.buildings\n",
    "import mrcnn.visualize as visualize\n",
    "from mrcnn.config import Config\n",
    "import numpy as np\n",
    "from mrcnn import model as modellib\n",
    "import time\n",
    "from platform import python_version_tuple\n",
    "from matplotlib import pyplot as plt\n",
    "import pickle\n",
    "\n",
    "config = mrcnn.buildings.BuildingConfig()\n",
    "ROOF_DIR = \"deeproof-release/data/final-dataset/\"\n",
    "\n",
    "# Load datasets\n",
    "# Get the datasets from the releases page\n",
    "train_set = mrcnn.buildings.BuildingDataset()\n",
    "train_set.load_building(ROOF_DIR, \"train\")\n",
    "train_set.prepare()\n",
    "\n",
    "val_set = mrcnn.buildings.BuildingDataset()\n",
    "val_set.load_building(ROOF_DIR, \"val\")\n",
    "val_set.prepare()\n",
    "\n",
    "print(\"Loading Mask R-CNN model...\")\n",
    "model = modellib.MaskRCNN(mode=\"training\", config=config, model_dir='./')\n",
    "\n",
    "print('Loading weights')\n",
    "# load the weights for COCO\n",
    "model.load_weights('mask_rcnn_coco.h5',\n",
    "                   by_name=True,\n",
    "                   exclude=[\"mrcnn_class_logits\", \"mrcnn_bbox_fc\",  \"mrcnn_bbox\", \"mrcnn_mask\"])\n",
    "\n",
    "print('Training model')\n",
    "\n",
    "model.train(train_set, val_set, learning_rate=config.LEARNING_RATE, epochs=5, layers='heads')\n",
    "history = model.keras_model.history.history\n",
    "\n",
    "print('Saving model')\n",
    "filename = 'models/mask_rcnn_'  + '.' + str(time.time())\n",
    "model_path = filename + '.h5'\n",
    "model.keras_model.save_weights(model_path)"
   ]
  }
 ],
 "metadata": {
  "kernelspec": {
   "display_name": "Python 3",
   "language": "python",
   "name": "python3"
  },
  "language_info": {
   "codemirror_mode": {
    "name": "ipython",
    "version": 3
   },
   "file_extension": ".py",
   "mimetype": "text/x-python",
   "name": "python",
   "nbconvert_exporter": "python",
   "pygments_lexer": "ipython3",
   "version": "3.8.0"
  }
 },
 "nbformat": 4,
 "nbformat_minor": 4
}
