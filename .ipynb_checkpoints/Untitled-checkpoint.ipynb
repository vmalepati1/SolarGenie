{
 "cells": [
  {
   "cell_type": "code",
   "execution_count": 12,
   "metadata": {},
   "outputs": [
    {
     "name": "stderr",
     "output_type": "stream",
     "text": [
      "WARNING: You are using pip version 19.2.3, however version 19.3.1 is available.\n",
      "You should consider upgrading via the 'python -m pip install --upgrade pip' command.\n"
     ]
    },
    {
     "name": "stdout",
     "output_type": "stream",
     "text": [
      "Requirement already up-to-date: segmentation-models in c:\\users\\malep\\appdata\\roaming\\python\\python37\\site-packages (1.0.0)\n",
      "Requirement already satisfied, skipping upgrade: keras-applications<=1.0.8,>=1.0.7 in c:\\users\\malep\\appdata\\roaming\\python\\python37\\site-packages (from segmentation-models) (1.0.8)\n",
      "Requirement already satisfied, skipping upgrade: image-classifiers==1.0.0 in c:\\users\\malep\\appdata\\roaming\\python\\python37\\site-packages (from segmentation-models) (1.0.0)\n",
      "Requirement already satisfied, skipping upgrade: efficientnet==1.0.0 in c:\\users\\malep\\appdata\\roaming\\python\\python37\\site-packages (from segmentation-models) (1.0.0)\n",
      "Requirement already satisfied, skipping upgrade: h5py in c:\\users\\malep\\appdata\\roaming\\python\\python37\\site-packages (from keras-applications<=1.0.8,>=1.0.7->segmentation-models) (2.10.0)\n",
      "Requirement already satisfied, skipping upgrade: numpy>=1.9.1 in c:\\users\\malep\\appdata\\roaming\\python\\python37\\site-packages (from keras-applications<=1.0.8,>=1.0.7->segmentation-models) (1.18.0)\n",
      "Requirement already satisfied, skipping upgrade: scikit-image in c:\\users\\malep\\appdata\\roaming\\python\\python37\\site-packages (from efficientnet==1.0.0->segmentation-models) (0.16.2)\n",
      "Requirement already satisfied, skipping upgrade: six in c:\\users\\malep\\appdata\\roaming\\python\\python37\\site-packages (from h5py->keras-applications<=1.0.8,>=1.0.7->segmentation-models) (1.13.0)\n",
      "Requirement already satisfied, skipping upgrade: networkx>=2.0 in c:\\users\\malep\\appdata\\roaming\\python\\python37\\site-packages (from scikit-image->efficientnet==1.0.0->segmentation-models) (2.4)\n",
      "Requirement already satisfied, skipping upgrade: pillow>=4.3.0 in c:\\users\\malep\\appdata\\roaming\\python\\python37\\site-packages (from scikit-image->efficientnet==1.0.0->segmentation-models) (6.2.1)\n",
      "Requirement already satisfied, skipping upgrade: scipy>=0.19.0 in c:\\users\\malep\\appdata\\roaming\\python\\python37\\site-packages (from scikit-image->efficientnet==1.0.0->segmentation-models) (1.4.1)\n",
      "Requirement already satisfied, skipping upgrade: matplotlib!=3.0.0,>=2.0.0 in c:\\users\\malep\\appdata\\roaming\\python\\python37\\site-packages (from scikit-image->efficientnet==1.0.0->segmentation-models) (3.2.0rc1)\n",
      "Requirement already satisfied, skipping upgrade: PyWavelets>=0.4.0 in c:\\users\\malep\\appdata\\roaming\\python\\python37\\site-packages (from scikit-image->efficientnet==1.0.0->segmentation-models) (1.1.1)\n",
      "Requirement already satisfied, skipping upgrade: imageio>=2.3.0 in c:\\users\\malep\\appdata\\roaming\\python\\python37\\site-packages (from scikit-image->efficientnet==1.0.0->segmentation-models) (2.6.1)\n",
      "Requirement already satisfied, skipping upgrade: decorator>=4.3.0 in c:\\users\\malep\\appdata\\roaming\\python\\python37\\site-packages (from networkx>=2.0->scikit-image->efficientnet==1.0.0->segmentation-models) (4.4.1)\n",
      "Requirement already satisfied, skipping upgrade: python-dateutil>=2.1 in c:\\users\\malep\\appdata\\roaming\\python\\python37\\site-packages (from matplotlib!=3.0.0,>=2.0.0->scikit-image->efficientnet==1.0.0->segmentation-models) (2.8.1)\n",
      "Requirement already satisfied, skipping upgrade: cycler>=0.10 in c:\\users\\malep\\appdata\\roaming\\python\\python37\\site-packages (from matplotlib!=3.0.0,>=2.0.0->scikit-image->efficientnet==1.0.0->segmentation-models) (0.10.0)\n",
      "Requirement already satisfied, skipping upgrade: kiwisolver>=1.0.1 in c:\\users\\malep\\appdata\\roaming\\python\\python37\\site-packages (from matplotlib!=3.0.0,>=2.0.0->scikit-image->efficientnet==1.0.0->segmentation-models) (1.1.0)\n",
      "Requirement already satisfied, skipping upgrade: pyparsing!=2.0.4,!=2.1.2,!=2.1.6,>=2.0.1 in c:\\users\\malep\\appdata\\roaming\\python\\python37\\site-packages (from matplotlib!=3.0.0,>=2.0.0->scikit-image->efficientnet==1.0.0->segmentation-models) (2.4.6)\n",
      "Requirement already satisfied, skipping upgrade: setuptools in c:\\users\\malep\\appdata\\local\\programs\\python\\python37\\lib\\site-packages (from kiwisolver>=1.0.1->matplotlib!=3.0.0,>=2.0.0->scikit-image->efficientnet==1.0.0->segmentation-models) (41.2.0)\n"
     ]
    },
    {
     "name": "stderr",
     "output_type": "stream",
     "text": [
      "WARNING: You are using pip version 19.2.3, however version 19.3.1 is available.\n",
      "You should consider upgrading via the 'python -m pip install --upgrade pip' command.\n"
     ]
    },
    {
     "name": "stdout",
     "output_type": "stream",
     "text": [
      "Requirement already satisfied: opencv-python in c:\\users\\malep\\appdata\\local\\programs\\python\\python37\\lib\\site-packages (4.1.2.30)\n",
      "Requirement already satisfied: numpy>=1.14.5 in c:\\users\\malep\\appdata\\roaming\\python\\python37\\site-packages (from opencv-python) (1.18.0)\n"
     ]
    },
    {
     "name": "stderr",
     "output_type": "stream",
     "text": [
      "WARNING: You are using pip version 19.2.3, however version 19.3.1 is available.\n",
      "You should consider upgrading via the 'python -m pip install --upgrade pip' command.\n"
     ]
    }
   ],
   "source": [
    "# Install required libs\n",
    "\n",
    "### please update Albumentations to version>=0.3.0 for `Lambda` transform support\n",
    "!pip install -U albumentations>=0.3.0 --user \n",
    "!pip install -U --pre segmentation-models --user\n",
    "!pip install opencv-python"
   ]
  },
  {
   "cell_type": "code",
   "execution_count": 14,
   "metadata": {},
   "outputs": [
    {
     "data": {
      "text/plain": [
       "['C:\\\\Users\\\\malep\\\\OneDrive\\\\Documents\\\\GitHub\\\\SolarGenie',\n",
       " 'c:\\\\users\\\\malep\\\\appdata\\\\local\\\\programs\\\\python\\\\python38\\\\python38.zip',\n",
       " 'c:\\\\users\\\\malep\\\\appdata\\\\local\\\\programs\\\\python\\\\python38\\\\DLLs',\n",
       " 'c:\\\\users\\\\malep\\\\appdata\\\\local\\\\programs\\\\python\\\\python38\\\\lib',\n",
       " 'c:\\\\users\\\\malep\\\\appdata\\\\local\\\\programs\\\\python\\\\python38',\n",
       " '',\n",
       " 'c:\\\\users\\\\malep\\\\appdata\\\\local\\\\programs\\\\python\\\\python38\\\\lib\\\\site-packages',\n",
       " 'c:\\\\users\\\\malep\\\\appdata\\\\local\\\\programs\\\\python\\\\python38\\\\lib\\\\site-packages\\\\win32',\n",
       " 'c:\\\\users\\\\malep\\\\appdata\\\\local\\\\programs\\\\python\\\\python38\\\\lib\\\\site-packages\\\\win32\\\\lib',\n",
       " 'c:\\\\users\\\\malep\\\\appdata\\\\local\\\\programs\\\\python\\\\python38\\\\lib\\\\site-packages\\\\Pythonwin',\n",
       " 'c:\\\\users\\\\malep\\\\appdata\\\\local\\\\programs\\\\python\\\\python38\\\\lib\\\\site-packages\\\\IPython\\\\extensions',\n",
       " 'C:\\\\Users\\\\malep\\\\.ipython']"
      ]
     },
     "execution_count": 14,
     "metadata": {},
     "output_type": "execute_result"
    }
   ],
   "source": [
    "import os\n",
    "os.environ['CUDA_VISIBLE_DEVICES'] = '0'\n",
    "\n",
    "import cv2\n",
    "import keras\n",
    "import numpy as np\n",
    "import matplotlib.pyplot as plt"
   ]
  },
  {
   "cell_type": "code",
   "execution_count": null,
   "metadata": {},
   "outputs": [],
   "source": [
    "DATA_DIR = './data/CamVid/'\n",
    "\n",
    "# load repo with data if it is not exists\n",
    "if not os.path.exists(DATA_DIR):\n",
    "    print('Loading data...')\n",
    "    os.system('git clone https://github.com/alexgkendall/SegNet-Tutorial ./data')\n",
    "    print('Done!')"
   ]
  },
  {
   "cell_type": "code",
   "execution_count": null,
   "metadata": {},
   "outputs": [],
   "source": []
  }
 ],
 "metadata": {
  "kernelspec": {
   "display_name": "Python 3",
   "language": "python",
   "name": "python3"
  },
  "language_info": {
   "codemirror_mode": {
    "name": "ipython",
    "version": 3
   },
   "file_extension": ".py",
   "mimetype": "text/x-python",
   "name": "python",
   "nbconvert_exporter": "python",
   "pygments_lexer": "ipython3",
   "version": "3.8.0"
  }
 },
 "nbformat": 4,
 "nbformat_minor": 4
}
